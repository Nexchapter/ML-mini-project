{
 "cells": [
  {
   "cell_type": "code",
   "execution_count": 66,
   "metadata": {},
   "outputs": [],
   "source": [
    "from tensorflow.keras.models import Sequential\n",
    "from tensorflow.keras.layers import Conv2D, MaxPooling2D, Flatten, Dense, Dropout\n",
    "import numpy as np\n",
    "\n",
    "# 构建用于微笑检测的模型\n",
    "model = Sequential([\n",
    "    Conv2D(32, (3, 3), activation='relu', input_shape=(64, 64, 1)),\n",
    "    MaxPooling2D(2, 2),\n",
    "    Conv2D(64, (3, 3), activation='relu'),\n",
    "    MaxPooling2D(2, 2),\n",
    "    Flatten(),\n",
    "    Dense(64, activation='relu'),\n",
    "    Dropout(0.5),\n",
    "    Dense(1, activation='sigmoid')\n",
    "])\n",
    "\n",
    "# 编译微笑检测模型\n",
    "model.compile(optimizer='adam', loss='binary_crossentropy', metrics=['accuracy'])"
   ]
  },
  {
   "cell_type": "code",
   "execution_count": 87,
   "metadata": {},
   "outputs": [],
   "source": [
    "# 加载数据\n",
    "labels_file = '/Users/mac/Desktop/Mini Project/genki4k/labels.txt'\n",
    "data = np.genfromtxt(labels_file, delimiter=' ')\n",
    "\n",
    "y_train = data[:, 0]  # 微笑标签\n",
    "head_poses = data[:, 1:]  # 头部姿态数据\n",
    "X_train = np.load('X_train.npy')\n",
    "X_test = np.load('X_test.npy')\n",
    "\n",
    "# 重新整形X_train以适应模型输入\n",
    "X_train = X_train.reshape(-1, 64, 64, 1)\n",
    "X_test = X_test.reshape(-1, 64, 64, 1)\n"
   ]
  },
  {
   "cell_type": "code",
   "execution_count": 88,
   "metadata": {},
   "outputs": [
    {
     "name": "stdout",
     "output_type": "stream",
     "text": [
      "25/25 [==============================] - 1s 20ms/step - loss: 0.6942 - accuracy: 0.4787\n",
      "测试准确率: 0.47874999046325684\n"
     ]
    }
   ],
   "source": [
    "\n",
    "# 评估模型\n",
    "test_loss, test_acc = model.evaluate(X_test, y_test)\n",
    "print(\"测试准确率:\", test_acc)\n"
   ]
  },
  {
   "cell_type": "markdown",
   "metadata": {},
   "source": [
    "3D头部姿态估计"
   ]
  },
  {
   "cell_type": "code",
   "execution_count": 89,
   "metadata": {},
   "outputs": [
    {
     "name": "stdout",
     "output_type": "stream",
     "text": [
      "Epoch 1/10\n",
      "80/80 [==============================] - 4s 48ms/step - loss: 0.0281 - val_loss: 0.0318\n",
      "Epoch 2/10\n",
      "80/80 [==============================] - 4s 45ms/step - loss: 0.0281 - val_loss: 0.0318\n",
      "Epoch 3/10\n",
      "80/80 [==============================] - 3s 42ms/step - loss: 0.0281 - val_loss: 0.0318\n",
      "Epoch 4/10\n",
      "80/80 [==============================] - 4s 45ms/step - loss: 0.0281 - val_loss: 0.0318\n",
      "Epoch 5/10\n",
      "80/80 [==============================] - 4s 46ms/step - loss: 0.0281 - val_loss: 0.0318\n",
      "Epoch 6/10\n",
      "80/80 [==============================] - 4s 46ms/step - loss: 0.0281 - val_loss: 0.0318\n",
      "Epoch 7/10\n",
      "80/80 [==============================] - 4s 45ms/step - loss: 0.0281 - val_loss: 0.0318\n",
      "Epoch 8/10\n",
      "80/80 [==============================] - 4s 44ms/step - loss: 0.0281 - val_loss: 0.0318\n",
      "Epoch 9/10\n",
      "80/80 [==============================] - 3s 44ms/step - loss: 0.0281 - val_loss: 0.0318\n",
      "Epoch 10/10\n",
      "80/80 [==============================] - 4s 44ms/step - loss: 0.0281 - val_loss: 0.0318\n"
     ]
    }
   ],
   "source": [
    "# 训练头部姿态预测模型\n",
    "history_regression = model_regression.fit(X_train, head_poses, epochs=10, validation_split=0.2, batch_size=32)"
   ]
  },
  {
   "cell_type": "code",
   "execution_count": 70,
   "metadata": {},
   "outputs": [
    {
     "name": "stdout",
     "output_type": "stream",
     "text": [
      "25/25 [==============================] - 1s 21ms/step\n"
     ]
    },
    {
     "data": {
      "image/png": "[encoded data removed]",
      "text/plain": [
       "<Figure size 1000x700 with 2 Axes>"
      ]
     },
     "metadata": {},
     "output_type": "display_data"
    },
    {
     "name": "stdout",
     "output_type": "stream",
     "text": [
      "              precision    recall  f1-score   support\n",
      "\n",
      "         0.0       0.44      0.70      0.54       354\n",
      "         1.0       0.56      0.30      0.39       446\n",
      "\n",
      "    accuracy                           0.48       800\n",
      "   macro avg       0.50      0.50      0.47       800\n",
      "weighted avg       0.51      0.48      0.46       800\n",
      "\n"
     ]
    }
   ],
   "source": [
    "from sklearn.metrics import classification_report, confusion_matrix\n",
    "import matplotlib.pyplot as plt\n",
    "import seaborn as sns\n",
    "\n",
    "# 预测测试集\n",
    "y_pred = model.predict(X_test)\n",
    "y_pred_classes = np.round(y_pred).astype(int)\n",
    "\n",
    "# 计算混淆矩阵\n",
    "cm = confusion_matrix(y_test, y_pred_classes)\n",
    "\n",
    "# 绘制混淆矩阵\n",
    "plt.figure(figsize=(10,7))\n",
    "sns.heatmap(cm, annot=True, fmt='d')\n",
    "plt.xlabel('Predicted')\n",
    "plt.ylabel('Truth')\n",
    "plt.show()\n",
    "\n",
    "# 打印分类报告\n",
    "print(classification_report(y_test, y_pred_classes))\n"
   ]
  },
  {
   "cell_type": "code",
   "execution_count": 90,
   "metadata": {},
   "outputs": [],
   "source": [
    "from tf_keras_vis.gradcam import Gradcam\n",
    "from tf_keras_vis.utils import normalize\n",
    "from matplotlib import pyplot as plt\n"
   ]
  },
  {
   "cell_type": "code",
   "execution_count": 91,
   "metadata": {},
   "outputs": [],
   "source": [
    "def grad_cam(model, image, class_idx, layer_name):\n",
    "    # 定义损失函数\n",
    "    def loss(output):\n",
    "        return output[..., class_idx]\n",
    "\n",
    "    gradcam = Gradcam(model, model_modifier=None, clone=False)\n",
    "    \n",
    "    # 正确处理图像的形状\n",
    "    image = np.expand_dims(image, axis=0)\n",
    "\n",
    "    # 生成Grad-CAM\n",
    "    cam = gradcam(loss, seed_input=image, penultimate_layer=layer_name)\n",
    "    cam = normalize(cam)\n",
    "\n",
    "    plt.imshow(cam[0], cmap='jet', alpha=0.5)\n",
    "    plt.show()"
   ]
  },
  {
   "cell_type": "code",
   "execution_count": 92,
   "metadata": {},
   "outputs": [
    {
     "name": "stdout",
     "output_type": "stream",
     "text": [
      "conv2d_9\n",
      "max_pooling2d_9\n",
      "conv2d_10\n",
      "max_pooling2d_10\n",
      "flatten_5\n",
      "dense_22\n",
      "dropout_11\n",
      "dense_23\n"
     ]
    }
   ],
   "source": [
    "for layer in model.layers:\n",
    "    print(layer.name)\n"
   ]
  },
  {
   "cell_type": "code",
   "execution_count": 94,
   "metadata": {},
   "outputs": [
    {
     "name": "stdout",
     "output_type": "stream",
     "text": [
      "Applying Grad-CAM to layer: conv2d_9\n",
      "Error applying Grad-CAM to layer conv2d_9: seed_input's shape is invalid. model-input index: 0, model-input shape: (None, 64, 64, 1), seed_input shape: (1, 1, 64, 64, 1).\n",
      "Applying Grad-CAM to layer: conv2d_10\n",
      "Error applying Grad-CAM to layer conv2d_10: seed_input's shape is invalid. model-input index: 0, model-input shape: (None, 64, 64, 1), seed_input shape: (1, 1, 64, 64, 1).\n"
     ]
    }
   ],
   "source": [
    "def grad_cam_for_all_conv_layers(model, image, class_idx):\n",
    "    # 确保图像形状正确\n",
    "    if len(image.shape) == 2:  # 如果图像是灰度图（高度，宽度）\n",
    "        image = np.expand_dims(image, axis=-1)  # 添加颜色通道维度\n",
    "    if image.shape[0] != 64 or image.shape[1] != 64 or image.shape[2] != 1:\n",
    "        raise ValueError(\"图像的形状必须是 (64, 64, 1)\")\n",
    "    image = np.expand_dims(image, axis=0)  # 添加批次维度\n",
    "\n",
    "    # 遍历模型的所有层\n",
    "    for layer in model.layers:\n",
    "        # 检查层是否是卷积层\n",
    "        if 'conv' in layer.name:\n",
    "            print(f\"Applying Grad-CAM to layer: {layer.name}\")\n",
    "            \n",
    "            # 应用 Grad-CAM\n",
    "            try:\n",
    "                grad_cam(model, image, class_idx, layer.name)\n",
    "            except ValueError as e:\n",
    "                print(f\"Error applying Grad-CAM to layer {layer.name}: {e}\")\n",
    "            plt.show()\n",
    "\n",
    "# 调用函数\n",
    "image_index = 0  # 示例：选择测试集中的第一个图像\n",
    "class_idx = 1  # 假设1代表“微笑”\n",
    "\n",
    "# 对测试集中的一个图像应用 Grad-CAM\n",
    "grad_cam_for_all_conv_layers(model, X_test[image_index], class_idx)\n"
   ]
  },
  {
   "cell_type": "code",
   "execution_count": 95,
   "metadata": {},
   "outputs": [
    {
     "name": "stdout",
     "output_type": "stream",
     "text": [
      "Epoch 1/10\n",
      "80/80 [==============================] - 5s 47ms/step - loss: 0.1608 - val_loss: 0.0324\n",
      "Epoch 2/10\n",
      "80/80 [==============================] - 4s 44ms/step - loss: 0.0285 - val_loss: 0.0322\n",
      "Epoch 3/10\n",
      "80/80 [==============================] - 4s 44ms/step - loss: 0.0283 - val_loss: 0.0320\n",
      "Epoch 4/10\n",
      "80/80 [==============================] - 4s 44ms/step - loss: 0.0282 - val_loss: 0.0319\n",
      "Epoch 5/10\n",
      "80/80 [==============================] - 4s 44ms/step - loss: 0.0281 - val_loss: 0.0319\n",
      "Epoch 6/10\n",
      "80/80 [==============================] - 4s 44ms/step - loss: 0.0281 - val_loss: 0.0319\n",
      "Epoch 7/10\n",
      "80/80 [==============================] - 4s 44ms/step - loss: 0.0281 - val_loss: 0.0318\n",
      "Epoch 8/10\n",
      "80/80 [==============================] - 4s 45ms/step - loss: 0.0281 - val_loss: 0.0318\n",
      "Epoch 9/10\n",
      "80/80 [==============================] - 4s 45ms/step - loss: 0.0281 - val_loss: 0.0318\n",
      "Epoch 10/10\n",
      "80/80 [==============================] - 4s 44ms/step - loss: 0.0281 - val_loss: 0.0318\n"
     ]
    }
   ],
   "source": [
    "# 假设您已经定义了一个名为 model_regression 的模型\n",
    "# 以下是一个简单的示例结构，您可能需要根据实际情况进行调整\n",
    "\n",
    "model_regression = Sequential([\n",
    "    # 卷积层和池化层（与微笑检测模型类似）\n",
    "    Conv2D(32, (3, 3), activation='relu', input_shape=(64, 64, 1)),\n",
    "    MaxPooling2D(2, 2),\n",
    "    # 更多层...\n",
    "    Flatten(),\n",
    "    Dense(64, activation='relu'),\n",
    "    Dropout(0.5),\n",
    "    Dense(3)  # 预测头部姿态的三个角度\n",
    "])\n",
    "\n",
    "model_regression.compile(optimizer='adam', loss='mean_squared_error')\n",
    "\n",
    "# 训练头部姿态预测模型\n",
    "history_regression = model_regression.fit(X_train, head_poses, epochs=10, validation_split=0.2, batch_size=32)\n"
   ]
  },
  {
   "cell_type": "code",
   "execution_count": 105,
   "metadata": {},
   "outputs": [
    {
     "name": "stdout",
     "output_type": "stream",
     "text": [
      "25/25 [==============================] - 0s 13ms/step\n",
      "头部姿态预测的均方误差: 0.028741834344139187\n"
     ]
    }
   ],
   "source": [
    "import os\n",
    "import numpy as np\n",
    "from PIL import Image\n",
    "from sklearn.model_selection import train_test_split\n",
    "\n",
    "# 图像文件夹路径\n",
    "image_folder = '/Users/mac/Desktop/Mini Project/genki4k/files'\n",
    "\n",
    "# 加载图像数据\n",
    "images = []\n",
    "for filename in os.listdir(image_folder):\n",
    "    if filename.endswith('.jpg'):  # 假设所有图像都是 JPG 格式\n",
    "        img_path = os.path.join(image_folder, filename)\n",
    "        img = Image.open(img_path).convert('L')  # 转换为灰度图\n",
    "        img = img.resize((64, 64))  # 假设您需要将图像调整为 64x64 尺寸\n",
    "        images.append(np.asarray(img))\n",
    "\n",
    "# 将列表转换为 NumPy 数组\n",
    "images = np.array(images)\n",
    "images = images.reshape(-1, 64, 64, 1)  # 重塑数组以适应模型输入\n",
    "\n",
    "# 假设您已经正确加载了 labels 和 head_poses\n",
    "# labels = ...\n",
    "# head_poses = ...\n",
    "\n",
    "# 分割数据为训练集和测试集\n",
    "X_train, X_test, y_train, y_test, y_train_poses, y_test_poses = train_test_split(\n",
    "    images, y_train, head_poses, test_size=0.2, random_state=42\n",
    ")\n",
    "\n",
    "# ...（其他代码，例如模型训练等）\n",
    "\n",
    "# 使用模型预测测试集的头部姿态\n",
    "head_poses_pred = model_regression.predict(X_test)\n",
    "\n",
    "# 计算均方误差\n",
    "mse = np.mean(np.square(head_poses_pred - y_test_poses))\n",
    "print(\"头部姿态预测的均方误差:\", mse)\n"
   ]
  }
 ],
 "metadata": {
  "kernelspec": {
   "display_name": "Python 3",
   "language": "python",
   "name": "python3"
  },
  "language_info": {
   "codemirror_mode": {
    "name": "ipython",
    "version": 3
   },
   "file_extension": ".py",
   "mimetype": "text/x-python",
   "name": "python",
   "nbconvert_exporter": "python",
   "pygments_lexer": "ipython3",
   "version": "3.9.6"
  }
 },
 "nbformat": 4,
 "nbformat_minor": 2
}
